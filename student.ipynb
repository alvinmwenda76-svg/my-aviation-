{
 "cells": [
  {
   "cell_type": "markdown",
   "id": "008d25ec-a7a9-4672-b0e4-eb4362cc142c",
   "metadata": {},
   "source": [
    "PROJECT OVERVIEW"
   ]
  },
  {
   "cell_type": "markdown",
   "id": "f3ea9b5d-bc00-47f2-a216-9947fffc4e80",
   "metadata": {},
   "source": [
    "Air travel accidents tend to be fatal. This study seeks to analyse some factors assosiated aircraft accidents."
   ]
  },
  {
   "cell_type": "markdown",
   "id": "088e9692-74a6-4afd-a898-2aa274c40bb4",
   "metadata": {},
   "source": [
    "PROBLEM STATEMENT"
   ]
  },
  {
   "cell_type": "markdown",
   "id": "a6616b22-9700-4be2-bb05-f29e5c580e71",
   "metadata": {},
   "source": [
    "Statistically, air travel is the safest mode of transport but when accidents occur they tend to be fatal.This study seeks to understand factors associated with aircraft accidents so as to improve on safety and inform manufacturers and business opperators."
   ]
  },
  {
   "cell_type": "markdown",
   "id": "22bb3a40-40ba-450c-b573-d1575c351b39",
   "metadata": {},
   "source": [
    "OBJECTIVES"
   ]
  },
  {
   "cell_type": "markdown",
   "id": "101b99c7-19a9-4516-9934-8d7583190905",
   "metadata": {},
   "source": [
    "1.Analysis of aircraft accidents trends over time."
   ]
  },
  {
   "cell_type": "markdown",
   "id": "c6c13ad4-3c4a-4ff4-b5c6-9b6261bacf08",
   "metadata": {},
   "source": [
    "2.Compare survival outcomes(total.uninjured) by manufacturer."
   ]
  },
  {
   "cell_type": "markdown",
   "id": "1731d068-230e-420a-b909-e6e71c5df531",
   "metadata": {},
   "source": [
    "3.Identify phases of flight that are accident prone."
   ]
  },
  {
   "cell_type": "markdown",
   "id": "4c9f9ac8-a4f3-4afd-b461-ce90208b62f5",
   "metadata": {},
   "source": [
    "METHODOLOGY"
   ]
  },
  {
   "cell_type": "code",
   "execution_count": 329,
   "id": "5e10e690-ee78-4b98-8d9b-4c14fbbb778b",
   "metadata": {},
   "outputs": [],
   "source": [
    "import pandas as pd\n",
    "import numpy as np\n",
    "import pandas as pd\n",
    "import seaborn as sns\n",
    "import matplotlib.pyplot as plt"
   ]
  },
  {
   "cell_type": "code",
   "execution_count": 330,
   "id": "0903f0fa-ea43-4c7f-8535-b8e72962fd02",
   "metadata": {},
   "outputs": [
    {
     "name": "stderr",
     "output_type": "stream",
     "text": [
      "C:\\ProgramData\\anaconda3\\envs\\learn-env\\lib\\site-packages\\IPython\\core\\interactiveshell.py:3145: DtypeWarning: Columns (6,7,28) have mixed types.Specify dtype option on import or set low_memory=False.\n",
      "  has_raised = await self.run_ast_nodes(code_ast.body, cell_name,\n"
     ]
    }
   ],
   "source": [
    "df = pd.read_csv(r\"C:\\users\\Peter Mutethia\\Downloads\\Aviation_Data.csv\")"
   ]
  },
  {
   "cell_type": "code",
   "execution_count": 331,
   "id": "64cd2559-67a7-44ed-8feb-15535f11721e",
   "metadata": {},
   "outputs": [
    {
     "data": {
      "text/plain": [
       "Index(['Event.Id', 'Investigation.Type', 'Accident.Number', 'Event.Date',\n",
       "       'Location', 'Country', 'Latitude', 'Longitude', 'Airport.Code',\n",
       "       'Airport.Name', 'Injury.Severity', 'Aircraft.damage',\n",
       "       'Aircraft.Category', 'Registration.Number', 'Make', 'Model',\n",
       "       'Amateur.Built', 'Number.of.Engines', 'Engine.Type', 'FAR.Description',\n",
       "       'Schedule', 'Purpose.of.flight', 'Air.carrier', 'Total.Fatal.Injuries',\n",
       "       'Total.Serious.Injuries', 'Total.Minor.Injuries', 'Total.Uninjured',\n",
       "       'Weather.Condition', 'Broad.phase.of.flight', 'Report.Status',\n",
       "       'Publication.Date'],\n",
       "      dtype='object')"
      ]
     },
     "execution_count": 331,
     "metadata": {},
     "output_type": "execute_result"
    }
   ],
   "source": [
    "df.columns"
   ]
  },
  {
   "cell_type": "code",
   "execution_count": 332,
   "id": "4f5ec507-3889-400c-9d0a-02cbc27257c9",
   "metadata": {},
   "outputs": [
    {
     "data": {
      "text/plain": [
       "(90348, 31)"
      ]
     },
     "execution_count": 332,
     "metadata": {},
     "output_type": "execute_result"
    }
   ],
   "source": [
    "df.shape\n",
    "#this gives the number of rows and columns on the data set respectively"
   ]
  },
  {
   "cell_type": "code",
   "execution_count": 333,
   "id": "a55d2d35-d6f4-42e6-a1f8-ce95fb4efeb1",
   "metadata": {},
   "outputs": [
    {
     "name": "stdout",
     "output_type": "stream",
     "text": [
      "<class 'pandas.core.frame.DataFrame'>\n",
      "RangeIndex: 90348 entries, 0 to 90347\n",
      "Data columns (total 31 columns):\n",
      " #   Column                  Non-Null Count  Dtype  \n",
      "---  ------                  --------------  -----  \n",
      " 0   Event.Id                88889 non-null  object \n",
      " 1   Investigation.Type      90348 non-null  object \n",
      " 2   Accident.Number         88889 non-null  object \n",
      " 3   Event.Date              88889 non-null  object \n",
      " 4   Location                88837 non-null  object \n",
      " 5   Country                 88663 non-null  object \n",
      " 6   Latitude                34382 non-null  object \n",
      " 7   Longitude               34373 non-null  object \n",
      " 8   Airport.Code            50249 non-null  object \n",
      " 9   Airport.Name            52790 non-null  object \n",
      " 10  Injury.Severity         87889 non-null  object \n",
      " 11  Aircraft.damage         85695 non-null  object \n",
      " 12  Aircraft.Category       32287 non-null  object \n",
      " 13  Registration.Number     87572 non-null  object \n",
      " 14  Make                    88826 non-null  object \n",
      " 15  Model                   88797 non-null  object \n",
      " 16  Amateur.Built           88787 non-null  object \n",
      " 17  Number.of.Engines       82805 non-null  float64\n",
      " 18  Engine.Type             81812 non-null  object \n",
      " 19  FAR.Description         32023 non-null  object \n",
      " 20  Schedule                12582 non-null  object \n",
      " 21  Purpose.of.flight       82697 non-null  object \n",
      " 22  Air.carrier             16648 non-null  object \n",
      " 23  Total.Fatal.Injuries    77488 non-null  float64\n",
      " 24  Total.Serious.Injuries  76379 non-null  float64\n",
      " 25  Total.Minor.Injuries    76956 non-null  float64\n",
      " 26  Total.Uninjured         82977 non-null  float64\n",
      " 27  Weather.Condition       84397 non-null  object \n",
      " 28  Broad.phase.of.flight   61724 non-null  object \n",
      " 29  Report.Status           82508 non-null  object \n",
      " 30  Publication.Date        73659 non-null  object \n",
      "dtypes: float64(5), object(26)\n",
      "memory usage: 21.4+ MB\n"
     ]
    }
   ],
   "source": [
    "df.info()\n",
    "#gives information on the dataframe"
   ]
  },
  {
   "cell_type": "code",
   "execution_count": 334,
   "id": "1ae59e2a-5f31-4126-b981-daa3c2b2fb92",
   "metadata": {},
   "outputs": [
    {
     "data": {
      "text/html": [
       "<div>\n",
       "<style scoped>\n",
       "    .dataframe tbody tr th:only-of-type {\n",
       "        vertical-align: middle;\n",
       "    }\n",
       "\n",
       "    .dataframe tbody tr th {\n",
       "        vertical-align: top;\n",
       "    }\n",
       "\n",
       "    .dataframe thead th {\n",
       "        text-align: right;\n",
       "    }\n",
       "</style>\n",
       "<table border=\"1\" class=\"dataframe\">\n",
       "  <thead>\n",
       "    <tr style=\"text-align: right;\">\n",
       "      <th></th>\n",
       "      <th>Number.of.Engines</th>\n",
       "      <th>Total.Fatal.Injuries</th>\n",
       "      <th>Total.Serious.Injuries</th>\n",
       "      <th>Total.Minor.Injuries</th>\n",
       "      <th>Total.Uninjured</th>\n",
       "    </tr>\n",
       "  </thead>\n",
       "  <tbody>\n",
       "    <tr>\n",
       "      <th>count</th>\n",
       "      <td>82805.000000</td>\n",
       "      <td>77488.000000</td>\n",
       "      <td>76379.000000</td>\n",
       "      <td>76956.000000</td>\n",
       "      <td>82977.000000</td>\n",
       "    </tr>\n",
       "    <tr>\n",
       "      <th>mean</th>\n",
       "      <td>1.146585</td>\n",
       "      <td>0.647855</td>\n",
       "      <td>0.279881</td>\n",
       "      <td>0.357061</td>\n",
       "      <td>5.325440</td>\n",
       "    </tr>\n",
       "    <tr>\n",
       "      <th>std</th>\n",
       "      <td>0.446510</td>\n",
       "      <td>5.485960</td>\n",
       "      <td>1.544084</td>\n",
       "      <td>2.235625</td>\n",
       "      <td>27.913634</td>\n",
       "    </tr>\n",
       "    <tr>\n",
       "      <th>min</th>\n",
       "      <td>0.000000</td>\n",
       "      <td>0.000000</td>\n",
       "      <td>0.000000</td>\n",
       "      <td>0.000000</td>\n",
       "      <td>0.000000</td>\n",
       "    </tr>\n",
       "    <tr>\n",
       "      <th>25%</th>\n",
       "      <td>1.000000</td>\n",
       "      <td>0.000000</td>\n",
       "      <td>0.000000</td>\n",
       "      <td>0.000000</td>\n",
       "      <td>0.000000</td>\n",
       "    </tr>\n",
       "    <tr>\n",
       "      <th>50%</th>\n",
       "      <td>1.000000</td>\n",
       "      <td>0.000000</td>\n",
       "      <td>0.000000</td>\n",
       "      <td>0.000000</td>\n",
       "      <td>1.000000</td>\n",
       "    </tr>\n",
       "    <tr>\n",
       "      <th>75%</th>\n",
       "      <td>1.000000</td>\n",
       "      <td>0.000000</td>\n",
       "      <td>0.000000</td>\n",
       "      <td>0.000000</td>\n",
       "      <td>2.000000</td>\n",
       "    </tr>\n",
       "    <tr>\n",
       "      <th>max</th>\n",
       "      <td>8.000000</td>\n",
       "      <td>349.000000</td>\n",
       "      <td>161.000000</td>\n",
       "      <td>380.000000</td>\n",
       "      <td>699.000000</td>\n",
       "    </tr>\n",
       "  </tbody>\n",
       "</table>\n",
       "</div>"
      ],
      "text/plain": [
       "       Number.of.Engines  Total.Fatal.Injuries  Total.Serious.Injuries  \\\n",
       "count       82805.000000          77488.000000            76379.000000   \n",
       "mean            1.146585              0.647855                0.279881   \n",
       "std             0.446510              5.485960                1.544084   \n",
       "min             0.000000              0.000000                0.000000   \n",
       "25%             1.000000              0.000000                0.000000   \n",
       "50%             1.000000              0.000000                0.000000   \n",
       "75%             1.000000              0.000000                0.000000   \n",
       "max             8.000000            349.000000              161.000000   \n",
       "\n",
       "       Total.Minor.Injuries  Total.Uninjured  \n",
       "count          76956.000000     82977.000000  \n",
       "mean               0.357061         5.325440  \n",
       "std                2.235625        27.913634  \n",
       "min                0.000000         0.000000  \n",
       "25%                0.000000         0.000000  \n",
       "50%                0.000000         1.000000  \n",
       "75%                0.000000         2.000000  \n",
       "max              380.000000       699.000000  "
      ]
     },
     "execution_count": 334,
     "metadata": {},
     "output_type": "execute_result"
    }
   ],
   "source": [
    "df.describe()\n",
    "#this gives the summary statistics of each column"
   ]
  },
  {
   "cell_type": "markdown",
   "id": "d8988b1b-66eb-4b02-8cf5-dccf12e35c32",
   "metadata": {},
   "source": [
    "The data set has 90348 rows and 31 columns"
   ]
  },
  {
   "cell_type": "markdown",
   "id": "db0b7971-3116-450e-b55f-43fc718e0753",
   "metadata": {},
   "source": [
    "DATA CLEANING"
   ]
  },
  {
   "cell_type": "code",
   "execution_count": 335,
   "id": "4489636d-a095-4d70-8141-2d4b8c01cf43",
   "metadata": {},
   "outputs": [
    {
     "data": {
      "text/plain": [
       "Event.Id                   1459\n",
       "Investigation.Type            0\n",
       "Accident.Number            1459\n",
       "Event.Date                 1459\n",
       "Location                   1511\n",
       "Country                    1685\n",
       "Latitude                  55966\n",
       "Longitude                 55975\n",
       "Airport.Code              40099\n",
       "Airport.Name              37558\n",
       "Injury.Severity            2459\n",
       "Aircraft.damage            4653\n",
       "Aircraft.Category         58061\n",
       "Registration.Number        2776\n",
       "Make                       1522\n",
       "Model                      1551\n",
       "Amateur.Built              1561\n",
       "Number.of.Engines          7543\n",
       "Engine.Type                8536\n",
       "FAR.Description           58325\n",
       "Schedule                  77766\n",
       "Purpose.of.flight          7651\n",
       "Air.carrier               73700\n",
       "Total.Fatal.Injuries      12860\n",
       "Total.Serious.Injuries    13969\n",
       "Total.Minor.Injuries      13392\n",
       "Total.Uninjured            7371\n",
       "Weather.Condition          5951\n",
       "Broad.phase.of.flight     28624\n",
       "Report.Status              7840\n",
       "Publication.Date          16689\n",
       "dtype: int64"
      ]
     },
     "execution_count": 335,
     "metadata": {},
     "output_type": "execute_result"
    }
   ],
   "source": [
    "df.isnull().sum()\n",
    "# this shows each the number of missing values in each column"
   ]
  },
  {
   "cell_type": "markdown",
   "id": "c86228c3-44fe-45b3-ad98-3b67e9cb2ab4",
   "metadata": {},
   "source": []
  },
  {
   "cell_type": "code",
   "execution_count": 336,
   "id": "c68f798a-e1f9-4ca5-93bd-fa7373e50911",
   "metadata": {},
   "outputs": [],
   "source": [
    "df.columns = df.columns.str.lower()\n",
    "#converts all columns names to lower case letter to make it easier to work with"
   ]
  },
  {
   "cell_type": "code",
   "execution_count": 337,
   "id": "eea7c938-e339-44c5-b6d3-52c87012ecf9",
   "metadata": {},
   "outputs": [
    {
     "data": {
      "text/plain": [
       "Index(['event.id', 'investigation.type', 'accident.number', 'event.date',\n",
       "       'location', 'country', 'latitude', 'longitude', 'airport.code',\n",
       "       'airport.name', 'injury.severity', 'aircraft.damage',\n",
       "       'aircraft.category', 'registration.number', 'make', 'model',\n",
       "       'amateur.built', 'number.of.engines', 'engine.type', 'far.description',\n",
       "       'schedule', 'purpose.of.flight', 'air.carrier', 'total.fatal.injuries',\n",
       "       'total.serious.injuries', 'total.minor.injuries', 'total.uninjured',\n",
       "       'weather.condition', 'broad.phase.of.flight', 'report.status',\n",
       "       'publication.date'],\n",
       "      dtype='object')"
      ]
     },
     "execution_count": 337,
     "metadata": {},
     "output_type": "execute_result"
    }
   ],
   "source": [
    "df.columns\n",
    "#checking if columns are in lower case"
   ]
  },
  {
   "cell_type": "code",
   "execution_count": 338,
   "id": "94cd80db-08a1-4ea6-bb5a-036ad06315e6",
   "metadata": {},
   "outputs": [
    {
     "name": "stdout",
     "output_type": "stream",
     "text": [
      "['event.id', 'investigation.type', 'accident.number', 'event.date', 'location', 'country', 'latitude', 'longitude', 'airport.code', 'airport.name', 'injury.severity', 'aircraft.damage', 'aircraft.category', 'registration.number', 'make', 'model', 'amateur.built', 'number.of.engines', 'engine.type', 'far.description', 'schedule', 'purpose.of.flight', 'air.carrier', 'total.fatal.injuries', 'total.serious.injuries', 'total.minor.injuries', 'total.uninjured', 'weather.condition', 'broad.phase.of.flight', 'report.status', 'publication.date']\n"
     ]
    }
   ],
   "source": [
    "print(df.columns.tolist())"
   ]
  },
  {
   "cell_type": "code",
   "execution_count": 339,
   "id": "088eeaaf-4693-4b35-ba1e-17faa36b4358",
   "metadata": {},
   "outputs": [
    {
     "data": {
      "text/plain": [
       "(90348, 31)"
      ]
     },
     "execution_count": 339,
     "metadata": {},
     "output_type": "execute_result"
    }
   ],
   "source": [
    "df.shape"
   ]
  },
  {
   "cell_type": "code",
   "execution_count": 340,
   "id": "643e3ce3-31a5-4207-957a-2365b1fa80ab",
   "metadata": {},
   "outputs": [],
   "source": [
    "df = df.drop_duplicates()\n",
    "#removes duplicate rows\n"
   ]
  },
  {
   "cell_type": "code",
   "execution_count": 341,
   "id": "0b4f9919-7474-4db5-9020-9bb0829d7f90",
   "metadata": {},
   "outputs": [
    {
     "data": {
      "text/plain": [
       "(88958, 31)"
      ]
     },
     "execution_count": 341,
     "metadata": {},
     "output_type": "execute_result"
    }
   ],
   "source": [
    "df.shape"
   ]
  },
  {
   "cell_type": "code",
   "execution_count": 342,
   "id": "c8e719c7-bad0-4be9-b788-d1b6cab7af2b",
   "metadata": {},
   "outputs": [
    {
     "data": {
      "text/html": [
       "<div>\n",
       "<style scoped>\n",
       "    .dataframe tbody tr th:only-of-type {\n",
       "        vertical-align: middle;\n",
       "    }\n",
       "\n",
       "    .dataframe tbody tr th {\n",
       "        vertical-align: top;\n",
       "    }\n",
       "\n",
       "    .dataframe thead th {\n",
       "        text-align: right;\n",
       "    }\n",
       "</style>\n",
       "<table border=\"1\" class=\"dataframe\">\n",
       "  <thead>\n",
       "    <tr style=\"text-align: right;\">\n",
       "      <th></th>\n",
       "      <th>event.id</th>\n",
       "      <th>investigation.type</th>\n",
       "      <th>accident.number</th>\n",
       "      <th>event.date</th>\n",
       "      <th>location</th>\n",
       "      <th>country</th>\n",
       "      <th>latitude</th>\n",
       "      <th>longitude</th>\n",
       "      <th>airport.code</th>\n",
       "      <th>airport.name</th>\n",
       "      <th>...</th>\n",
       "      <th>purpose.of.flight</th>\n",
       "      <th>air.carrier</th>\n",
       "      <th>total.fatal.injuries</th>\n",
       "      <th>total.serious.injuries</th>\n",
       "      <th>total.minor.injuries</th>\n",
       "      <th>total.uninjured</th>\n",
       "      <th>weather.condition</th>\n",
       "      <th>broad.phase.of.flight</th>\n",
       "      <th>report.status</th>\n",
       "      <th>publication.date</th>\n",
       "    </tr>\n",
       "  </thead>\n",
       "  <tbody>\n",
       "    <tr>\n",
       "      <th>0</th>\n",
       "      <td>20001218X45444</td>\n",
       "      <td>Accident</td>\n",
       "      <td>SEA87LA080</td>\n",
       "      <td>1948-10-24</td>\n",
       "      <td>MOOSE CREEK, ID</td>\n",
       "      <td>United States</td>\n",
       "      <td>NaN</td>\n",
       "      <td>NaN</td>\n",
       "      <td>NaN</td>\n",
       "      <td>NaN</td>\n",
       "      <td>...</td>\n",
       "      <td>Personal</td>\n",
       "      <td>NaN</td>\n",
       "      <td>2.0</td>\n",
       "      <td>0.0</td>\n",
       "      <td>0.0</td>\n",
       "      <td>0.0</td>\n",
       "      <td>UNK</td>\n",
       "      <td>Cruise</td>\n",
       "      <td>Probable Cause</td>\n",
       "      <td>NaN</td>\n",
       "    </tr>\n",
       "    <tr>\n",
       "      <th>1</th>\n",
       "      <td>20001218X45447</td>\n",
       "      <td>Accident</td>\n",
       "      <td>LAX94LA336</td>\n",
       "      <td>1962-07-19</td>\n",
       "      <td>BRIDGEPORT, CA</td>\n",
       "      <td>United States</td>\n",
       "      <td>NaN</td>\n",
       "      <td>NaN</td>\n",
       "      <td>NaN</td>\n",
       "      <td>NaN</td>\n",
       "      <td>...</td>\n",
       "      <td>Personal</td>\n",
       "      <td>NaN</td>\n",
       "      <td>4.0</td>\n",
       "      <td>0.0</td>\n",
       "      <td>0.0</td>\n",
       "      <td>0.0</td>\n",
       "      <td>UNK</td>\n",
       "      <td>Unknown</td>\n",
       "      <td>Probable Cause</td>\n",
       "      <td>19-09-1996</td>\n",
       "    </tr>\n",
       "    <tr>\n",
       "      <th>2</th>\n",
       "      <td>20061025X01555</td>\n",
       "      <td>Accident</td>\n",
       "      <td>NYC07LA005</td>\n",
       "      <td>1974-08-30</td>\n",
       "      <td>Saltville, VA</td>\n",
       "      <td>United States</td>\n",
       "      <td>36.9222</td>\n",
       "      <td>-81.8781</td>\n",
       "      <td>NaN</td>\n",
       "      <td>NaN</td>\n",
       "      <td>...</td>\n",
       "      <td>Personal</td>\n",
       "      <td>NaN</td>\n",
       "      <td>3.0</td>\n",
       "      <td>NaN</td>\n",
       "      <td>NaN</td>\n",
       "      <td>NaN</td>\n",
       "      <td>IMC</td>\n",
       "      <td>Cruise</td>\n",
       "      <td>Probable Cause</td>\n",
       "      <td>26-02-2007</td>\n",
       "    </tr>\n",
       "    <tr>\n",
       "      <th>3</th>\n",
       "      <td>20001218X45448</td>\n",
       "      <td>Accident</td>\n",
       "      <td>LAX96LA321</td>\n",
       "      <td>1977-06-19</td>\n",
       "      <td>EUREKA, CA</td>\n",
       "      <td>United States</td>\n",
       "      <td>NaN</td>\n",
       "      <td>NaN</td>\n",
       "      <td>NaN</td>\n",
       "      <td>NaN</td>\n",
       "      <td>...</td>\n",
       "      <td>Personal</td>\n",
       "      <td>NaN</td>\n",
       "      <td>2.0</td>\n",
       "      <td>0.0</td>\n",
       "      <td>0.0</td>\n",
       "      <td>0.0</td>\n",
       "      <td>IMC</td>\n",
       "      <td>Cruise</td>\n",
       "      <td>Probable Cause</td>\n",
       "      <td>12-09-2000</td>\n",
       "    </tr>\n",
       "    <tr>\n",
       "      <th>4</th>\n",
       "      <td>20041105X01764</td>\n",
       "      <td>Accident</td>\n",
       "      <td>CHI79FA064</td>\n",
       "      <td>1979-08-02</td>\n",
       "      <td>Canton, OH</td>\n",
       "      <td>United States</td>\n",
       "      <td>NaN</td>\n",
       "      <td>NaN</td>\n",
       "      <td>NaN</td>\n",
       "      <td>NaN</td>\n",
       "      <td>...</td>\n",
       "      <td>Personal</td>\n",
       "      <td>NaN</td>\n",
       "      <td>1.0</td>\n",
       "      <td>2.0</td>\n",
       "      <td>NaN</td>\n",
       "      <td>0.0</td>\n",
       "      <td>VMC</td>\n",
       "      <td>Approach</td>\n",
       "      <td>Probable Cause</td>\n",
       "      <td>16-04-1980</td>\n",
       "    </tr>\n",
       "  </tbody>\n",
       "</table>\n",
       "<p>5 rows × 31 columns</p>\n",
       "</div>"
      ],
      "text/plain": [
       "         event.id investigation.type accident.number  event.date  \\\n",
       "0  20001218X45444           Accident      SEA87LA080  1948-10-24   \n",
       "1  20001218X45447           Accident      LAX94LA336  1962-07-19   \n",
       "2  20061025X01555           Accident      NYC07LA005  1974-08-30   \n",
       "3  20001218X45448           Accident      LAX96LA321  1977-06-19   \n",
       "4  20041105X01764           Accident      CHI79FA064  1979-08-02   \n",
       "\n",
       "          location        country latitude longitude airport.code  \\\n",
       "0  MOOSE CREEK, ID  United States      NaN       NaN          NaN   \n",
       "1   BRIDGEPORT, CA  United States      NaN       NaN          NaN   \n",
       "2    Saltville, VA  United States  36.9222  -81.8781          NaN   \n",
       "3       EUREKA, CA  United States      NaN       NaN          NaN   \n",
       "4       Canton, OH  United States      NaN       NaN          NaN   \n",
       "\n",
       "  airport.name  ... purpose.of.flight air.carrier total.fatal.injuries  \\\n",
       "0          NaN  ...          Personal         NaN                  2.0   \n",
       "1          NaN  ...          Personal         NaN                  4.0   \n",
       "2          NaN  ...          Personal         NaN                  3.0   \n",
       "3          NaN  ...          Personal         NaN                  2.0   \n",
       "4          NaN  ...          Personal         NaN                  1.0   \n",
       "\n",
       "  total.serious.injuries total.minor.injuries total.uninjured  \\\n",
       "0                    0.0                  0.0             0.0   \n",
       "1                    0.0                  0.0             0.0   \n",
       "2                    NaN                  NaN             NaN   \n",
       "3                    0.0                  0.0             0.0   \n",
       "4                    2.0                  NaN             0.0   \n",
       "\n",
       "  weather.condition  broad.phase.of.flight   report.status publication.date  \n",
       "0               UNK                 Cruise  Probable Cause              NaN  \n",
       "1               UNK                Unknown  Probable Cause       19-09-1996  \n",
       "2               IMC                 Cruise  Probable Cause       26-02-2007  \n",
       "3               IMC                 Cruise  Probable Cause       12-09-2000  \n",
       "4               VMC               Approach  Probable Cause       16-04-1980  \n",
       "\n",
       "[5 rows x 31 columns]"
      ]
     },
     "execution_count": 342,
     "metadata": {},
     "output_type": "execute_result"
    }
   ],
   "source": [
    "df.head()"
   ]
  },
  {
   "cell_type": "code",
   "execution_count": 343,
   "id": "495944cc-cfd1-45d9-b503-282e1685c9b7",
   "metadata": {},
   "outputs": [
    {
     "data": {
      "text/plain": [
       "0                                NaN\n",
       "1                                NaN\n",
       "2                                NaN\n",
       "3                                NaN\n",
       "4                                NaN\n",
       "5                         Air Canada\n",
       "6                                NaN\n",
       "7                                NaN\n",
       "8                                NaN\n",
       "9                                NaN\n",
       "10                               NaN\n",
       "11                               NaN\n",
       "12                               NaN\n",
       "13                               NaN\n",
       "14                               NaN\n",
       "15                               NaN\n",
       "16                               NaN\n",
       "17                               NaN\n",
       "18                               NaN\n",
       "19                               NaN\n",
       "20                               NaN\n",
       "21                               NaN\n",
       "22    Rocky Mountain Helicopters, In\n",
       "23                               NaN\n",
       "24                               NaN\n",
       "25                               NaN\n",
       "26                               NaN\n",
       "27                               NaN\n",
       "28                               NaN\n",
       "29                               NaN\n",
       "Name: air.carrier, dtype: object"
      ]
     },
     "execution_count": 343,
     "metadata": {},
     "output_type": "execute_result"
    }
   ],
   "source": [
    "df['air.carrier'].head(30)\n"
   ]
  },
  {
   "cell_type": "code",
   "execution_count": 344,
   "id": "379fe77f-e1a3-44a7-ba58-88e2372d6b79",
   "metadata": {},
   "outputs": [
    {
     "data": {
      "text/plain": [
       "0      NaN\n",
       "1      NaN\n",
       "2      NaN\n",
       "3      NaN\n",
       "4      NaN\n",
       "5     SCHD\n",
       "6      NaN\n",
       "7      NaN\n",
       "8      NaN\n",
       "9      NaN\n",
       "10     NaN\n",
       "11     NaN\n",
       "12     NaN\n",
       "13     NaN\n",
       "14     NaN\n",
       "15     NaN\n",
       "16     NaN\n",
       "17     NaN\n",
       "18     NaN\n",
       "19     NaN\n",
       "20     NaN\n",
       "21     NaN\n",
       "22    NSCH\n",
       "23     NaN\n",
       "24     NaN\n",
       "25     NaN\n",
       "26     NaN\n",
       "27     NaN\n",
       "28     NaN\n",
       "29     NaN\n",
       "Name: schedule, dtype: object"
      ]
     },
     "execution_count": 344,
     "metadata": {},
     "output_type": "execute_result"
    }
   ],
   "source": [
    "df['schedule'].head(30)"
   ]
  },
  {
   "cell_type": "code",
   "execution_count": 345,
   "id": "b8c9de30-94b0-447b-98a0-b57203a84040",
   "metadata": {},
   "outputs": [
    {
     "data": {
      "text/plain": [
       "0                               NaN\n",
       "1                               NaN\n",
       "2                               NaN\n",
       "3                               NaN\n",
       "4                               NaN\n",
       "5                 Part 129: Foreign\n",
       "6                               NaN\n",
       "7         Part 91: General Aviation\n",
       "8         Part 91: General Aviation\n",
       "9                               NaN\n",
       "10                              NaN\n",
       "11                              NaN\n",
       "12        Part 91: General Aviation\n",
       "13        Part 91: General Aviation\n",
       "14        Part 91: General Aviation\n",
       "15        Part 91: General Aviation\n",
       "16        Part 91: General Aviation\n",
       "17        Part 91: General Aviation\n",
       "18        Part 91: General Aviation\n",
       "19        Part 91: General Aviation\n",
       "20        Part 91: General Aviation\n",
       "21        Part 91: General Aviation\n",
       "22    Part 135: Air Taxi & Commuter\n",
       "23        Part 91: General Aviation\n",
       "24        Part 91: General Aviation\n",
       "25        Part 91: General Aviation\n",
       "26        Part 91: General Aviation\n",
       "27        Part 91: General Aviation\n",
       "28        Part 91: General Aviation\n",
       "29        Part 91: General Aviation\n",
       "Name: far.description, dtype: object"
      ]
     },
     "execution_count": 345,
     "metadata": {},
     "output_type": "execute_result"
    }
   ],
   "source": [
    "df['far.description'].head(30)"
   ]
  },
  {
   "cell_type": "code",
   "execution_count": 346,
   "id": "b69f8ad1-c495-4ebb-b107-1846b610913a",
   "metadata": {},
   "outputs": [
    {
     "data": {
      "text/plain": [
       "0            NaN\n",
       "1            NaN\n",
       "2            NaN\n",
       "3            NaN\n",
       "4            NaN\n",
       "5       Airplane\n",
       "6            NaN\n",
       "7       Airplane\n",
       "8       Airplane\n",
       "9            NaN\n",
       "10           NaN\n",
       "11           NaN\n",
       "12      Airplane\n",
       "13      Airplane\n",
       "14      Airplane\n",
       "15      Airplane\n",
       "16    Helicopter\n",
       "17      Airplane\n",
       "18      Airplane\n",
       "19    Helicopter\n",
       "20      Airplane\n",
       "21      Airplane\n",
       "22    Helicopter\n",
       "23      Airplane\n",
       "24      Airplane\n",
       "25      Airplane\n",
       "26      Airplane\n",
       "27      Airplane\n",
       "28      Airplane\n",
       "29      Airplane\n",
       "Name: aircraft.category, dtype: object"
      ]
     },
     "execution_count": 346,
     "metadata": {},
     "output_type": "execute_result"
    }
   ],
   "source": [
    "df['aircraft.category'].head(30)"
   ]
  },
  {
   "cell_type": "markdown",
   "id": "683dd428-f9c8-4bdd-89a3-c0a4aacad1a8",
   "metadata": {},
   "source": [
    "I wanted to uderstand these individual columns better so as to know whether i will drop them."
   ]
  },
  {
   "cell_type": "code",
   "execution_count": 347,
   "id": "023565fc-035b-4122-a70f-02ad00094ddd",
   "metadata": {},
   "outputs": [],
   "source": [
    "df = df.drop(columns =['far.description','schedule','air.carrier','airport.code','aircraft.category','purpose.of.flight','publication.date'])\n",
    "#dropping columns i will not use in my study."
   ]
  },
  {
   "cell_type": "code",
   "execution_count": 348,
   "id": "274b7fc2-64e7-4bdc-be9b-90e7a53a8679",
   "metadata": {},
   "outputs": [],
   "source": [
    "numerical_columns = ['number.of.engines','total.fatal.injuries','total.serious.injuries','total.minor.injuries','latitude','longitude']\n",
    "df[numerical_columns] = df[numerical_columns].apply(pd.to_numeric, errors='coerce')\n",
    "df['total.uninjured'] = pd.to_numeric(df['total.uninjured'], errors='coerce')            \n",
    "df[numerical_columns]= df[numerical_columns].fillna(0)\n",
    "df['total.uninjured'] = df['total.uninjured'].fillna(0)\n",
    "#changing numerical columns to numeric and filling missing values with 0\n",
    "\n",
    "\n"
   ]
  },
  {
   "cell_type": "code",
   "execution_count": 349,
   "id": "bb9334c5-2e83-40af-bc53-956ae7ef789e",
   "metadata": {},
   "outputs": [
    {
     "data": {
      "text/html": [
       "<div>\n",
       "<style scoped>\n",
       "    .dataframe tbody tr th:only-of-type {\n",
       "        vertical-align: middle;\n",
       "    }\n",
       "\n",
       "    .dataframe tbody tr th {\n",
       "        vertical-align: top;\n",
       "    }\n",
       "\n",
       "    .dataframe thead th {\n",
       "        text-align: right;\n",
       "    }\n",
       "</style>\n",
       "<table border=\"1\" class=\"dataframe\">\n",
       "  <thead>\n",
       "    <tr style=\"text-align: right;\">\n",
       "      <th></th>\n",
       "      <th>event.id</th>\n",
       "      <th>investigation.type</th>\n",
       "      <th>accident.number</th>\n",
       "      <th>event.date</th>\n",
       "      <th>location</th>\n",
       "      <th>country</th>\n",
       "      <th>latitude</th>\n",
       "      <th>longitude</th>\n",
       "      <th>airport.name</th>\n",
       "      <th>injury.severity</th>\n",
       "      <th>...</th>\n",
       "      <th>amateur.built</th>\n",
       "      <th>number.of.engines</th>\n",
       "      <th>engine.type</th>\n",
       "      <th>total.fatal.injuries</th>\n",
       "      <th>total.serious.injuries</th>\n",
       "      <th>total.minor.injuries</th>\n",
       "      <th>total.uninjured</th>\n",
       "      <th>weather.condition</th>\n",
       "      <th>broad.phase.of.flight</th>\n",
       "      <th>report.status</th>\n",
       "    </tr>\n",
       "  </thead>\n",
       "  <tbody>\n",
       "    <tr>\n",
       "      <th>0</th>\n",
       "      <td>20001218X45444</td>\n",
       "      <td>Accident</td>\n",
       "      <td>SEA87LA080</td>\n",
       "      <td>1948-10-24</td>\n",
       "      <td>MOOSE CREEK, ID</td>\n",
       "      <td>United States</td>\n",
       "      <td>0.000000</td>\n",
       "      <td>0.000000</td>\n",
       "      <td>NaN</td>\n",
       "      <td>Fatal(2)</td>\n",
       "      <td>...</td>\n",
       "      <td>No</td>\n",
       "      <td>1.0</td>\n",
       "      <td>Reciprocating</td>\n",
       "      <td>2.0</td>\n",
       "      <td>0.0</td>\n",
       "      <td>0.0</td>\n",
       "      <td>0.0</td>\n",
       "      <td>UNK</td>\n",
       "      <td>Cruise</td>\n",
       "      <td>Probable Cause</td>\n",
       "    </tr>\n",
       "    <tr>\n",
       "      <th>1</th>\n",
       "      <td>20001218X45447</td>\n",
       "      <td>Accident</td>\n",
       "      <td>LAX94LA336</td>\n",
       "      <td>1962-07-19</td>\n",
       "      <td>BRIDGEPORT, CA</td>\n",
       "      <td>United States</td>\n",
       "      <td>0.000000</td>\n",
       "      <td>0.000000</td>\n",
       "      <td>NaN</td>\n",
       "      <td>Fatal(4)</td>\n",
       "      <td>...</td>\n",
       "      <td>No</td>\n",
       "      <td>1.0</td>\n",
       "      <td>Reciprocating</td>\n",
       "      <td>4.0</td>\n",
       "      <td>0.0</td>\n",
       "      <td>0.0</td>\n",
       "      <td>0.0</td>\n",
       "      <td>UNK</td>\n",
       "      <td>Unknown</td>\n",
       "      <td>Probable Cause</td>\n",
       "    </tr>\n",
       "    <tr>\n",
       "      <th>2</th>\n",
       "      <td>20061025X01555</td>\n",
       "      <td>Accident</td>\n",
       "      <td>NYC07LA005</td>\n",
       "      <td>1974-08-30</td>\n",
       "      <td>Saltville, VA</td>\n",
       "      <td>United States</td>\n",
       "      <td>36.922223</td>\n",
       "      <td>-81.878056</td>\n",
       "      <td>NaN</td>\n",
       "      <td>Fatal(3)</td>\n",
       "      <td>...</td>\n",
       "      <td>No</td>\n",
       "      <td>1.0</td>\n",
       "      <td>Reciprocating</td>\n",
       "      <td>3.0</td>\n",
       "      <td>0.0</td>\n",
       "      <td>0.0</td>\n",
       "      <td>0.0</td>\n",
       "      <td>IMC</td>\n",
       "      <td>Cruise</td>\n",
       "      <td>Probable Cause</td>\n",
       "    </tr>\n",
       "    <tr>\n",
       "      <th>3</th>\n",
       "      <td>20001218X45448</td>\n",
       "      <td>Accident</td>\n",
       "      <td>LAX96LA321</td>\n",
       "      <td>1977-06-19</td>\n",
       "      <td>EUREKA, CA</td>\n",
       "      <td>United States</td>\n",
       "      <td>0.000000</td>\n",
       "      <td>0.000000</td>\n",
       "      <td>NaN</td>\n",
       "      <td>Fatal(2)</td>\n",
       "      <td>...</td>\n",
       "      <td>No</td>\n",
       "      <td>1.0</td>\n",
       "      <td>Reciprocating</td>\n",
       "      <td>2.0</td>\n",
       "      <td>0.0</td>\n",
       "      <td>0.0</td>\n",
       "      <td>0.0</td>\n",
       "      <td>IMC</td>\n",
       "      <td>Cruise</td>\n",
       "      <td>Probable Cause</td>\n",
       "    </tr>\n",
       "    <tr>\n",
       "      <th>4</th>\n",
       "      <td>20041105X01764</td>\n",
       "      <td>Accident</td>\n",
       "      <td>CHI79FA064</td>\n",
       "      <td>1979-08-02</td>\n",
       "      <td>Canton, OH</td>\n",
       "      <td>United States</td>\n",
       "      <td>0.000000</td>\n",
       "      <td>0.000000</td>\n",
       "      <td>NaN</td>\n",
       "      <td>Fatal(1)</td>\n",
       "      <td>...</td>\n",
       "      <td>No</td>\n",
       "      <td>0.0</td>\n",
       "      <td>NaN</td>\n",
       "      <td>1.0</td>\n",
       "      <td>2.0</td>\n",
       "      <td>0.0</td>\n",
       "      <td>0.0</td>\n",
       "      <td>VMC</td>\n",
       "      <td>Approach</td>\n",
       "      <td>Probable Cause</td>\n",
       "    </tr>\n",
       "  </tbody>\n",
       "</table>\n",
       "<p>5 rows × 24 columns</p>\n",
       "</div>"
      ],
      "text/plain": [
       "         event.id investigation.type accident.number  event.date  \\\n",
       "0  20001218X45444           Accident      SEA87LA080  1948-10-24   \n",
       "1  20001218X45447           Accident      LAX94LA336  1962-07-19   \n",
       "2  20061025X01555           Accident      NYC07LA005  1974-08-30   \n",
       "3  20001218X45448           Accident      LAX96LA321  1977-06-19   \n",
       "4  20041105X01764           Accident      CHI79FA064  1979-08-02   \n",
       "\n",
       "          location        country   latitude  longitude airport.name  \\\n",
       "0  MOOSE CREEK, ID  United States   0.000000   0.000000          NaN   \n",
       "1   BRIDGEPORT, CA  United States   0.000000   0.000000          NaN   \n",
       "2    Saltville, VA  United States  36.922223 -81.878056          NaN   \n",
       "3       EUREKA, CA  United States   0.000000   0.000000          NaN   \n",
       "4       Canton, OH  United States   0.000000   0.000000          NaN   \n",
       "\n",
       "  injury.severity  ... amateur.built number.of.engines    engine.type  \\\n",
       "0        Fatal(2)  ...            No               1.0  Reciprocating   \n",
       "1        Fatal(4)  ...            No               1.0  Reciprocating   \n",
       "2        Fatal(3)  ...            No               1.0  Reciprocating   \n",
       "3        Fatal(2)  ...            No               1.0  Reciprocating   \n",
       "4        Fatal(1)  ...            No               0.0            NaN   \n",
       "\n",
       "  total.fatal.injuries total.serious.injuries  total.minor.injuries  \\\n",
       "0                  2.0                    0.0                   0.0   \n",
       "1                  4.0                    0.0                   0.0   \n",
       "2                  3.0                    0.0                   0.0   \n",
       "3                  2.0                    0.0                   0.0   \n",
       "4                  1.0                    2.0                   0.0   \n",
       "\n",
       "  total.uninjured  weather.condition  broad.phase.of.flight   report.status  \n",
       "0             0.0                UNK                 Cruise  Probable Cause  \n",
       "1             0.0                UNK                Unknown  Probable Cause  \n",
       "2             0.0                IMC                 Cruise  Probable Cause  \n",
       "3             0.0                IMC                 Cruise  Probable Cause  \n",
       "4             0.0                VMC               Approach  Probable Cause  \n",
       "\n",
       "[5 rows x 24 columns]"
      ]
     },
     "execution_count": 349,
     "metadata": {},
     "output_type": "execute_result"
    }
   ],
   "source": [
    "df.head()"
   ]
  },
  {
   "cell_type": "code",
   "execution_count": 350,
   "id": "1d73c734-f225-474d-80c4-67ba1b3627f8",
   "metadata": {},
   "outputs": [
    {
     "data": {
      "text/plain": [
       "event.id                     69\n",
       "investigation.type            0\n",
       "accident.number              69\n",
       "event.date                   69\n",
       "location                    121\n",
       "country                     295\n",
       "latitude                      0\n",
       "longitude                     0\n",
       "airport.name              36168\n",
       "injury.severity            1069\n",
       "aircraft.damage            3263\n",
       "registration.number        1386\n",
       "make                        132\n",
       "model                       161\n",
       "amateur.built               171\n",
       "number.of.engines             0\n",
       "engine.type                7146\n",
       "total.fatal.injuries          0\n",
       "total.serious.injuries        0\n",
       "total.minor.injuries          0\n",
       "total.uninjured               0\n",
       "weather.condition          4561\n",
       "broad.phase.of.flight     27234\n",
       "report.status              6450\n",
       "dtype: int64"
      ]
     },
     "execution_count": 350,
     "metadata": {},
     "output_type": "execute_result"
    }
   ],
   "source": [
    "df.isnull().sum()"
   ]
  },
  {
   "cell_type": "code",
   "execution_count": 351,
   "id": "a2c1931a-c3ed-42e7-9903-9ec94e23a85d",
   "metadata": {},
   "outputs": [
    {
     "data": {
      "text/html": [
       "<div>\n",
       "<style scoped>\n",
       "    .dataframe tbody tr th:only-of-type {\n",
       "        vertical-align: middle;\n",
       "    }\n",
       "\n",
       "    .dataframe tbody tr th {\n",
       "        vertical-align: top;\n",
       "    }\n",
       "\n",
       "    .dataframe thead th {\n",
       "        text-align: right;\n",
       "    }\n",
       "</style>\n",
       "<table border=\"1\" class=\"dataframe\">\n",
       "  <thead>\n",
       "    <tr style=\"text-align: right;\">\n",
       "      <th></th>\n",
       "      <th>event.id</th>\n",
       "      <th>investigation.type</th>\n",
       "      <th>accident.number</th>\n",
       "      <th>event.date</th>\n",
       "      <th>location</th>\n",
       "      <th>country</th>\n",
       "      <th>latitude</th>\n",
       "      <th>longitude</th>\n",
       "      <th>airport.name</th>\n",
       "      <th>injury.severity</th>\n",
       "      <th>...</th>\n",
       "      <th>amateur.built</th>\n",
       "      <th>number.of.engines</th>\n",
       "      <th>engine.type</th>\n",
       "      <th>total.fatal.injuries</th>\n",
       "      <th>total.serious.injuries</th>\n",
       "      <th>total.minor.injuries</th>\n",
       "      <th>total.uninjured</th>\n",
       "      <th>weather.condition</th>\n",
       "      <th>broad.phase.of.flight</th>\n",
       "      <th>report.status</th>\n",
       "    </tr>\n",
       "  </thead>\n",
       "  <tbody>\n",
       "    <tr>\n",
       "      <th>0</th>\n",
       "      <td>20001218X45444</td>\n",
       "      <td>Accident</td>\n",
       "      <td>SEA87LA080</td>\n",
       "      <td>1948-10-24</td>\n",
       "      <td>MOOSE CREEK, ID</td>\n",
       "      <td>United States</td>\n",
       "      <td>0.000000</td>\n",
       "      <td>0.000000</td>\n",
       "      <td>NaN</td>\n",
       "      <td>Fatal(2)</td>\n",
       "      <td>...</td>\n",
       "      <td>No</td>\n",
       "      <td>1.0</td>\n",
       "      <td>Reciprocating</td>\n",
       "      <td>2.0</td>\n",
       "      <td>0.0</td>\n",
       "      <td>0.0</td>\n",
       "      <td>0.0</td>\n",
       "      <td>UNK</td>\n",
       "      <td>Cruise</td>\n",
       "      <td>Probable Cause</td>\n",
       "    </tr>\n",
       "    <tr>\n",
       "      <th>1</th>\n",
       "      <td>20001218X45447</td>\n",
       "      <td>Accident</td>\n",
       "      <td>LAX94LA336</td>\n",
       "      <td>1962-07-19</td>\n",
       "      <td>BRIDGEPORT, CA</td>\n",
       "      <td>United States</td>\n",
       "      <td>0.000000</td>\n",
       "      <td>0.000000</td>\n",
       "      <td>NaN</td>\n",
       "      <td>Fatal(4)</td>\n",
       "      <td>...</td>\n",
       "      <td>No</td>\n",
       "      <td>1.0</td>\n",
       "      <td>Reciprocating</td>\n",
       "      <td>4.0</td>\n",
       "      <td>0.0</td>\n",
       "      <td>0.0</td>\n",
       "      <td>0.0</td>\n",
       "      <td>UNK</td>\n",
       "      <td>Unknown</td>\n",
       "      <td>Probable Cause</td>\n",
       "    </tr>\n",
       "    <tr>\n",
       "      <th>2</th>\n",
       "      <td>20061025X01555</td>\n",
       "      <td>Accident</td>\n",
       "      <td>NYC07LA005</td>\n",
       "      <td>1974-08-30</td>\n",
       "      <td>Saltville, VA</td>\n",
       "      <td>United States</td>\n",
       "      <td>36.922223</td>\n",
       "      <td>-81.878056</td>\n",
       "      <td>NaN</td>\n",
       "      <td>Fatal(3)</td>\n",
       "      <td>...</td>\n",
       "      <td>No</td>\n",
       "      <td>1.0</td>\n",
       "      <td>Reciprocating</td>\n",
       "      <td>3.0</td>\n",
       "      <td>0.0</td>\n",
       "      <td>0.0</td>\n",
       "      <td>0.0</td>\n",
       "      <td>IMC</td>\n",
       "      <td>Cruise</td>\n",
       "      <td>Probable Cause</td>\n",
       "    </tr>\n",
       "    <tr>\n",
       "      <th>3</th>\n",
       "      <td>20001218X45448</td>\n",
       "      <td>Accident</td>\n",
       "      <td>LAX96LA321</td>\n",
       "      <td>1977-06-19</td>\n",
       "      <td>EUREKA, CA</td>\n",
       "      <td>United States</td>\n",
       "      <td>0.000000</td>\n",
       "      <td>0.000000</td>\n",
       "      <td>NaN</td>\n",
       "      <td>Fatal(2)</td>\n",
       "      <td>...</td>\n",
       "      <td>No</td>\n",
       "      <td>1.0</td>\n",
       "      <td>Reciprocating</td>\n",
       "      <td>2.0</td>\n",
       "      <td>0.0</td>\n",
       "      <td>0.0</td>\n",
       "      <td>0.0</td>\n",
       "      <td>IMC</td>\n",
       "      <td>Cruise</td>\n",
       "      <td>Probable Cause</td>\n",
       "    </tr>\n",
       "    <tr>\n",
       "      <th>4</th>\n",
       "      <td>20041105X01764</td>\n",
       "      <td>Accident</td>\n",
       "      <td>CHI79FA064</td>\n",
       "      <td>1979-08-02</td>\n",
       "      <td>Canton, OH</td>\n",
       "      <td>United States</td>\n",
       "      <td>0.000000</td>\n",
       "      <td>0.000000</td>\n",
       "      <td>NaN</td>\n",
       "      <td>Fatal(1)</td>\n",
       "      <td>...</td>\n",
       "      <td>No</td>\n",
       "      <td>0.0</td>\n",
       "      <td>NaN</td>\n",
       "      <td>1.0</td>\n",
       "      <td>2.0</td>\n",
       "      <td>0.0</td>\n",
       "      <td>0.0</td>\n",
       "      <td>VMC</td>\n",
       "      <td>Approach</td>\n",
       "      <td>Probable Cause</td>\n",
       "    </tr>\n",
       "  </tbody>\n",
       "</table>\n",
       "<p>5 rows × 24 columns</p>\n",
       "</div>"
      ],
      "text/plain": [
       "         event.id investigation.type accident.number  event.date  \\\n",
       "0  20001218X45444           Accident      SEA87LA080  1948-10-24   \n",
       "1  20001218X45447           Accident      LAX94LA336  1962-07-19   \n",
       "2  20061025X01555           Accident      NYC07LA005  1974-08-30   \n",
       "3  20001218X45448           Accident      LAX96LA321  1977-06-19   \n",
       "4  20041105X01764           Accident      CHI79FA064  1979-08-02   \n",
       "\n",
       "          location        country   latitude  longitude airport.name  \\\n",
       "0  MOOSE CREEK, ID  United States   0.000000   0.000000          NaN   \n",
       "1   BRIDGEPORT, CA  United States   0.000000   0.000000          NaN   \n",
       "2    Saltville, VA  United States  36.922223 -81.878056          NaN   \n",
       "3       EUREKA, CA  United States   0.000000   0.000000          NaN   \n",
       "4       Canton, OH  United States   0.000000   0.000000          NaN   \n",
       "\n",
       "  injury.severity  ... amateur.built number.of.engines    engine.type  \\\n",
       "0        Fatal(2)  ...            No               1.0  Reciprocating   \n",
       "1        Fatal(4)  ...            No               1.0  Reciprocating   \n",
       "2        Fatal(3)  ...            No               1.0  Reciprocating   \n",
       "3        Fatal(2)  ...            No               1.0  Reciprocating   \n",
       "4        Fatal(1)  ...            No               0.0            NaN   \n",
       "\n",
       "  total.fatal.injuries total.serious.injuries  total.minor.injuries  \\\n",
       "0                  2.0                    0.0                   0.0   \n",
       "1                  4.0                    0.0                   0.0   \n",
       "2                  3.0                    0.0                   0.0   \n",
       "3                  2.0                    0.0                   0.0   \n",
       "4                  1.0                    2.0                   0.0   \n",
       "\n",
       "  total.uninjured  weather.condition  broad.phase.of.flight   report.status  \n",
       "0             0.0                UNK                 Cruise  Probable Cause  \n",
       "1             0.0                UNK                Unknown  Probable Cause  \n",
       "2             0.0                IMC                 Cruise  Probable Cause  \n",
       "3             0.0                IMC                 Cruise  Probable Cause  \n",
       "4             0.0                VMC               Approach  Probable Cause  \n",
       "\n",
       "[5 rows x 24 columns]"
      ]
     },
     "execution_count": 351,
     "metadata": {},
     "output_type": "execute_result"
    }
   ],
   "source": [
    "df.head()"
   ]
  },
  {
   "cell_type": "code",
   "execution_count": 352,
   "id": "fc2fcce3-ea46-4c69-9d19-d6badb97dac0",
   "metadata": {},
   "outputs": [],
   "source": [
    "df['event.date'] = pd.to_datetime(df['event.date'], errors='coerce')"
   ]
  },
  {
   "cell_type": "code",
   "execution_count": 353,
   "id": "1895aa96-3826-46e0-bc72-7b90dbcd1c04",
   "metadata": {},
   "outputs": [],
   "source": [
    "object_col = ['event.id','accident.number','location','registration.number','make','model','amateur.built','country','latitude','longitude','aircraft.damage','injury.severity','engine.type','weather.condition','broad.phase.of.flight','report.status','airport.name']\n",
    "df[object_col] = df[object_col].fillna('unknown')\n",
    "#filling missing values in all the above columns with unknown"
   ]
  },
  {
   "cell_type": "code",
   "execution_count": 354,
   "id": "bb9787b6-7089-4c71-a373-14253e3ed678",
   "metadata": {},
   "outputs": [],
   "source": [
    "df['injuries'] = df['total.serious.injuries'] + df['total.minor.injuries'] + df['total.fatal.injuries']\n",
    "#creating a new column of total injuries "
   ]
  },
  {
   "cell_type": "code",
   "execution_count": 355,
   "id": "a446605b-3c22-4043-ba06-c2fee78e7a0d",
   "metadata": {},
   "outputs": [],
   "source": [
    "df['event.date'] = pd.to_datetime(df['event.date'], errors='coerce')\n",
    "#changing entries in the event.date column to datetime format"
   ]
  },
  {
   "cell_type": "code",
   "execution_count": 356,
   "id": "1518a560-d957-4504-9dbe-0d3a02a155ea",
   "metadata": {},
   "outputs": [
    {
     "data": {
      "text/plain": [
       "event.id                   0\n",
       "investigation.type         0\n",
       "accident.number            0\n",
       "event.date                69\n",
       "location                   0\n",
       "country                    0\n",
       "latitude                   0\n",
       "longitude                  0\n",
       "airport.name               0\n",
       "injury.severity            0\n",
       "aircraft.damage            0\n",
       "registration.number        0\n",
       "make                       0\n",
       "model                      0\n",
       "amateur.built              0\n",
       "number.of.engines          0\n",
       "engine.type                0\n",
       "total.fatal.injuries       0\n",
       "total.serious.injuries     0\n",
       "total.minor.injuries       0\n",
       "total.uninjured            0\n",
       "weather.condition          0\n",
       "broad.phase.of.flight      0\n",
       "report.status              0\n",
       "injuries                   0\n",
       "dtype: int64"
      ]
     },
     "execution_count": 356,
     "metadata": {},
     "output_type": "execute_result"
    }
   ],
   "source": [
    "df.isnull().sum()\n",
    "#checking for missing values"
   ]
  },
  {
   "cell_type": "markdown",
   "id": "d1ae34ef-7e7a-44fd-91bf-c00a1293d96c",
   "metadata": {},
   "source": [
    "event.date still has 69 missing values after changing the data entries to date time format so I decided ro drop the rows with the missing values"
   ]
  },
  {
   "cell_type": "code",
   "execution_count": 357,
   "id": "001e09fb-79e2-4e55-84a9-cd59722e89c8",
   "metadata": {},
   "outputs": [],
   "source": [
    "df = df.dropna(subset=['event.date'])"
   ]
  },
  {
   "cell_type": "code",
   "execution_count": 358,
   "id": "3b5089b5-76fd-4632-8750-8d4473c0599f",
   "metadata": {},
   "outputs": [
    {
     "data": {
      "text/plain": [
       "event.id                  0\n",
       "investigation.type        0\n",
       "accident.number           0\n",
       "event.date                0\n",
       "location                  0\n",
       "country                   0\n",
       "latitude                  0\n",
       "longitude                 0\n",
       "airport.name              0\n",
       "injury.severity           0\n",
       "aircraft.damage           0\n",
       "registration.number       0\n",
       "make                      0\n",
       "model                     0\n",
       "amateur.built             0\n",
       "number.of.engines         0\n",
       "engine.type               0\n",
       "total.fatal.injuries      0\n",
       "total.serious.injuries    0\n",
       "total.minor.injuries      0\n",
       "total.uninjured           0\n",
       "weather.condition         0\n",
       "broad.phase.of.flight     0\n",
       "report.status             0\n",
       "injuries                  0\n",
       "dtype: int64"
      ]
     },
     "execution_count": 358,
     "metadata": {},
     "output_type": "execute_result"
    }
   ],
   "source": [
    "df.isnull().sum()"
   ]
  },
  {
   "cell_type": "code",
   "execution_count": 359,
   "id": "3cde3005-2661-44ec-9e0e-f954555c719a",
   "metadata": {},
   "outputs": [
    {
     "data": {
      "text/plain": [
       "(88889, 25)"
      ]
     },
     "execution_count": 359,
     "metadata": {},
     "output_type": "execute_result"
    }
   ],
   "source": [
    "df.shape"
   ]
  },
  {
   "cell_type": "code",
   "execution_count": 360,
   "id": "2b5ddc19-de2a-4bb3-a881-57def411859f",
   "metadata": {},
   "outputs": [],
   "source": [
    "df['broad.phase.of.flight '] = df['broad.phase.of.flight'].str.strip().str.lower()"
   ]
  },
  {
   "cell_type": "code",
   "execution_count": 361,
   "id": "a28312ff-3bb9-4f85-b1bb-ef424b3661eb",
   "metadata": {},
   "outputs": [],
   "source": [
    "df.to_csv(\"clean_Aviation_data.csv\", index=False)\n"
   ]
  },
  {
   "cell_type": "markdown",
   "id": "2e5897e2-8404-43d6-ad6e-40ce3d979fbf",
   "metadata": {},
   "source": [
    "3.DATA ANALYSIS\n"
   ]
  },
  {
   "cell_type": "markdown",
   "id": "5c91fcd9-3387-4d2d-8ea1-9f3cb84df030",
   "metadata": {},
   "source": [
    "1.TREND OF ACCIDENTS OVER TIME\n"
   ]
  },
  {
   "cell_type": "code",
   "execution_count": 362,
   "id": "3d69b29d-d049-4217-adc8-34de382d163d",
   "metadata": {},
   "outputs": [
    {
     "name": "stdout",
     "output_type": "stream",
     "text": [
      "1948       1\n",
      "1962       1\n",
      "1974       1\n",
      "1977       1\n",
      "1979       2\n",
      "1981       1\n",
      "1982    3593\n",
      "1983    3556\n",
      "1984    3457\n",
      "1985    3096\n",
      "1986    2880\n",
      "1987    2828\n",
      "1988    2730\n",
      "1989    2544\n",
      "1990    2518\n",
      "1991    2462\n",
      "1992    2355\n",
      "1993    2313\n",
      "1994    2257\n",
      "1995    2309\n",
      "1996    2187\n",
      "1997    2148\n",
      "1998    2226\n",
      "1999    2209\n",
      "2000    2220\n",
      "2001    2063\n",
      "2002    2020\n",
      "2003    2085\n",
      "2004    1952\n",
      "2005    2031\n",
      "2006    1851\n",
      "2007    2016\n",
      "2008    1893\n",
      "2009    1783\n",
      "2010    1786\n",
      "2011    1850\n",
      "2012    1835\n",
      "2013    1561\n",
      "2014    1535\n",
      "2015    1582\n",
      "2016    1664\n",
      "2017    1638\n",
      "2018    1681\n",
      "2019    1624\n",
      "2020    1392\n",
      "2021    1545\n",
      "2022    1607\n",
      "Name: event.date, dtype: int64\n"
     ]
    }
   ],
   "source": [
    "accidents_per_year = df['event.date'].dt.year.value_counts().sort_index()\n",
    "print(accidents_per_year)\n",
    "#shows numbers of accidents in each year"
   ]
  },
  {
   "cell_type": "code",
   "execution_count": 363,
   "id": "886940eb-a039-4417-ad3d-aff158a0693a",
   "metadata": {},
   "outputs": [
    {
     "data": {
      "text/plain": [
       "Int64Index([1948, 1962, 1974, 1977, 1979, 1981, 1982, 1983, 1984, 1985, 1986,\n",
       "            1987, 1988, 1989, 1990, 1991, 1992, 1993, 1994, 1995, 1996, 1997,\n",
       "            1998, 1999, 2000, 2001, 2002, 2003, 2004, 2005, 2006, 2007, 2008,\n",
       "            2009, 2010, 2011, 2012, 2013, 2014, 2015, 2016, 2017, 2018, 2019,\n",
       "            2020, 2021, 2022],\n",
       "           dtype='int64')"
      ]
     },
     "execution_count": 363,
     "metadata": {},
     "output_type": "execute_result"
    }
   ],
   "source": [
    "x = accidents_per_year.index\n",
    "x\n",
    "# year of accident for my x axis"
   ]
  },
  {
   "cell_type": "code",
   "execution_count": 364,
   "id": "5d6d827c-7999-440f-a8ec-ab5f85ef4030",
   "metadata": {},
   "outputs": [
    {
     "data": {
      "text/plain": [
       "array([   1,    1,    1,    1,    2,    1, 3593, 3556, 3457, 3096, 2880,\n",
       "       2828, 2730, 2544, 2518, 2462, 2355, 2313, 2257, 2309, 2187, 2148,\n",
       "       2226, 2209, 2220, 2063, 2020, 2085, 1952, 2031, 1851, 2016, 1893,\n",
       "       1783, 1786, 1850, 1835, 1561, 1535, 1582, 1664, 1638, 1681, 1624,\n",
       "       1392, 1545, 1607], dtype=int64)"
      ]
     },
     "execution_count": 364,
     "metadata": {},
     "output_type": "execute_result"
    }
   ],
   "source": [
    "y = accidents_per_year.values\n",
    "y\n",
    "#number of accident for my y axis"
   ]
  },
  {
   "cell_type": "code",
   "execution_count": 365,
   "id": "70318ea7-917a-4de9-b9f1-47bc82d0ae58",
   "metadata": {},
   "outputs": [
    {
     "data": {
      "image/png": "[encoded data removed]",
      "text/plain": [
       "<Figure size 720x432 with 1 Axes>"
      ]
     },
     "metadata": {
      "needs_background": "light"
     },
     "output_type": "display_data"
    }
   ],
   "source": [
    "fig, ax = plt.subplots(figsize=(10,6))\n",
    "\n",
    "ax.plot(x, y, marker='o',color='k')\n",
    "        \n",
    "ax.set_xlabel('YEAR')\n",
    "ax.set_ylabel('NUMBER OF ACCIDENTS')\n",
    "ax.set_title('TREND OF ACCIDENTS OVER TIME')\n",
    "ax.grid(True)\n",
    "plt.show()\n"
   ]
  },
  {
   "cell_type": "markdown",
   "id": "4c62d077-1e55-4d96-9de0-f8cd98b7ef40",
   "metadata": {},
   "source": [
    "This shows that there was a sharp increase in plane accidents from the year 1980 but Overall the number of plane accidents reduced over time.\n"
   ]
  },
  {
   "cell_type": "markdown",
   "id": "ed619205-fab9-4a36-90ca-dafbe782780d",
   "metadata": {},
   "source": [
    "HOW DIFFERENT MAKES COMPARE TO ONE ANOTHER WHEN IT COMES TO TOTAL UNINJURED AFTER AN ACCIDENT."
   ]
  },
  {
   "cell_type": "code",
   "execution_count": 366,
   "id": "56f25b3d-0c2e-4890-9bc8-2e5ee72e5e2d",
   "metadata": {},
   "outputs": [],
   "source": [
    "df['make'] = df['make'].str.strip().str.lower()\n",
    "# in the make column boeing and BOEING were treated as two different entries.\n",
    "#This command turns all letters in the data entries to lower case."
   ]
  },
  {
   "cell_type": "code",
   "execution_count": 367,
   "id": "bde6c2d2-8ac9-4c57-8523-d9ac0bc930f4",
   "metadata": {},
   "outputs": [
    {
     "data": {
      "image/png": "[encoded data removed]",
      "text/plain": [
       "<Figure size 720x432 with 1 Axes>"
      ]
     },
     "metadata": {
      "needs_background": "light"
     },
     "output_type": "display_data"
    }
   ],
   "source": [
    "x = df.groupby('make')['total.uninjured'].sum().nlargest(10)\n",
    "fig, ax = plt.subplots(figsize=(10,6))\n",
    "ax.bar(x.index, x.values)\n",
    "\n",
    "ax.set_xlabel('Aircraft Make')\n",
    "ax.set_ylabel('Total Uninjured')\n",
    "ax.set_title('Aircraft make by Total Uninjured Passengers')\n",
    "plt.xticks(rotation=45, ha='right') #to make the make names fit\n",
    "plt.show()\n"
   ]
  },
  {
   "cell_type": "markdown",
   "id": "d0c5dac3-c1bb-45b5-b98c-62f5e46e9a59",
   "metadata": {
    "scrolled": true
   },
   "source": [
    "This shows how different aircraft makes compares to the number of uninjured people after an accident with boeing having the most number of total uninjured after an accident and embracer having the least."
   ]
  },
  {
   "cell_type": "markdown",
   "id": "c331561d-6426-4ab9-8b3d-fb7ec865a9fa",
   "metadata": {},
   "source": [
    "HOW DIFFERENT AIRCRAFT MAKES COMPARE IN INJURIES AND FATALITIES \n"
   ]
  },
  {
   "cell_type": "code",
   "execution_count": 368,
   "id": "79ebc80a-a6a2-4898-9edd-154b4fa91644",
   "metadata": {},
   "outputs": [
    {
     "data": {
      "image/png": "[encoded data removed]",
      "text/plain": [
       "<Figure size 720x432 with 1 Axes>"
      ]
     },
     "metadata": {
      "needs_background": "light"
     },
     "output_type": "display_data"
    }
   ],
   "source": [
    "x = df.groupby('make')['injuries'].sum().nlargest(10)\n",
    "fig, ax = plt.subplots(figsize=(10,6))\n",
    "ax.bar(x.index, x.values)\n",
    "\n",
    "ax.set_xlabel('Aircraft Make')\n",
    "ax.set_ylabel('injured and fatal injuries')\n",
    "ax.set_title('Aircraft make by Total injuries Passengers')\n",
    "plt.xticks(rotation=45) \n",
    "plt.show()\n"
   ]
  },
  {
   "cell_type": "markdown",
   "id": "690f15b4-df20-47ac-aad5-9d8008de3ffd",
   "metadata": {},
   "source": [
    "This shows how different aircraft makes compare when it comes to total injuries and fatalities recorded after an accident. Cessna has the highest number of injuries and fatalities while mooney has the lowest."
   ]
  },
  {
   "cell_type": "markdown",
   "id": "0f9e7aa1-bff4-40ae-8778-8477c1e41bca",
   "metadata": {},
   "source": [
    "INCIDENTS IN DIFFERENT PHASES OF FLIGHT\n"
   ]
  },
  {
   "cell_type": "code",
   "execution_count": 369,
   "id": "03e6ed7e-a4ea-4f30-bbfe-67e1b8b0e5fd",
   "metadata": {},
   "outputs": [],
   "source": [
    "df['broad.phase.of.flight'] = df['broad.phase.of.flight'].str.strip().str.lower()\n",
    "\n",
    "# this converts all entries in the broad.phase.of.flight column to lower case.\n",
    "#unknown and Unknown were being treated as two separate entities"
   ]
  },
  {
   "cell_type": "code",
   "execution_count": 370,
   "id": "bd1c5f36-c5aa-4bcb-8b1c-2bdd168410b1",
   "metadata": {},
   "outputs": [],
   "source": [
    "x = df['broad.phase.of.flight'].value_counts()"
   ]
  },
  {
   "cell_type": "code",
   "execution_count": 371,
   "id": "74233d63-2900-4e68-8da8-2d72541855b2",
   "metadata": {},
   "outputs": [
    {
     "data": {
      "text/plain": [
       "Index(['unknown', 'landing', 'takeoff', 'cruise', 'maneuvering', 'approach',\n",
       "       'climb', 'taxi', 'descent', 'go-around', 'standing', 'other'],\n",
       "      dtype='object')"
      ]
     },
     "execution_count": 371,
     "metadata": {},
     "output_type": "execute_result"
    }
   ],
   "source": [
    "x.index"
   ]
  },
  {
   "cell_type": "code",
   "execution_count": 372,
   "id": "b5b5bedb-6f96-44c9-8166-4cb224abc191",
   "metadata": {},
   "outputs": [
    {
     "data": {
      "text/plain": [
       "array([27713, 15428, 12493, 10269,  8144,  6546,  2034,  1958,  1887,\n",
       "        1353,   945,   119], dtype=int64)"
      ]
     },
     "execution_count": 372,
     "metadata": {},
     "output_type": "execute_result"
    }
   ],
   "source": [
    "x.values"
   ]
  },
  {
   "cell_type": "code",
   "execution_count": 373,
   "id": "64fb83a3-8307-471f-8ce1-b3845d7e535b",
   "metadata": {},
   "outputs": [
    {
     "data": {
      "image/png": "[encoded data removed]",
      "text/plain": [
       "<Figure size 720x432 with 1 Axes>"
      ]
     },
     "metadata": {
      "needs_background": "light"
     },
     "output_type": "display_data"
    }
   ],
   "source": [
    "fig, ax = plt.subplots(figsize = (10, 6))\n",
    "\n",
    "ax.bar(x.index, x.values)\n",
    "\n",
    "ax.set_title('Number of Accidents in Phase of Flight')\n",
    "ax.set_xlabel('Phase of Flight')\n",
    "ax.set_ylabel('N of accidents')\n",
    "plt.xticks(rotation=45)\n",
    "plt.show()\n"
   ]
  },
  {
   "cell_type": "markdown",
   "id": "5a6fe603-71ec-4139-93bb-65bb2691b6f1",
   "metadata": {},
   "source": [
    "this bar graph shows the frequency of incidents on each phase of flight recorded.Landing has the highest frequency of accidents recorded with other phases of flight being the lowest."
   ]
  },
  {
   "cell_type": "markdown",
   "id": "7fe38bad-7e89-4cb9-81ac-9372c9980f6e",
   "metadata": {},
   "source": [
    "CONCLUSION"
   ]
  },
  {
   "cell_type": "markdown",
   "id": "3ae38dc7-573b-4325-9be6-9b761db513bb",
   "metadata": {},
   "source": [
    "\n",
    "1.Aircraft accidents have decreased over time meaning safety features have improved."
   ]
  },
  {
   "cell_type": "markdown",
   "id": "a613cd63-0090-4389-bd52-209dc3368c20",
   "metadata": {},
   "source": [
    "2.Major manufacturers with large fleets record more accidents but also more survivors eg boeing."
   ]
  },
  {
   "cell_type": "markdown",
   "id": "b03e44cb-5fb3-450a-b5cb-cce0d230b86a",
   "metadata": {},
   "source": [
    "3.Despite having a large number of cases whereby the phase of flight is unknown, Landing takeoff and cruise remain the riskiest phase of flight."
   ]
  },
  {
   "cell_type": "markdown",
   "id": "37bdc291-f697-4f62-b412-b10e8ab5c7c0",
   "metadata": {},
   "source": [
    "This study shows that air travell safety has improved overtime while highlighting the remaining risk areas."
   ]
  },
  {
   "cell_type": "markdown",
   "id": "7733cc0e-131a-4ea3-b993-c4c5acce51e3",
   "metadata": {},
   "source": [
    "RECOMMENDATIONS"
   ]
  },
  {
   "cell_type": "markdown",
   "id": "721b4f2e-76fe-409c-9ea3-d5008e913466",
   "metadata": {},
   "source": [
    " 1.Manufacturers and Regulators could enhance safety features for critical phases. They could come up with better fail safe systems and better alert systems."
   ]
  },
  {
   "cell_type": "markdown",
   "id": "8a0a1157-99e1-4998-8f89-5b0a8bc330a1",
   "metadata": {},
   "source": [
    " 2.For businesses, investing in data and safety training would reduce accidents and improve cost efficiency."
   ]
  }
 ],
 "metadata": {
  "kernelspec": {
   "display_name": "Python [conda env:learn-env]",
   "language": "python",
   "name": "conda-env-learn-env-py"
  },
  "language_info": {
   "codemirror_mode": {
    "name": "ipython",
    "version": 3
   },
   "file_extension": ".py",
   "mimetype": "text/x-python",
   "name": "python",
   "nbconvert_exporter": "python",
   "pygments_lexer": "ipython3",
   "version": "3.8.5"
  }
 },
 "nbformat": 4,
 "nbformat_minor": 5
}
